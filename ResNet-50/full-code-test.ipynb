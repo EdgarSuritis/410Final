{
 "cells": [
  {
   "cell_type": "markdown",
   "id": "63557605",
   "metadata": {},
   "source": [
    "# Pretrained Microsoft Resnet-50 Fine Tuning With Binary Classifier"
   ]
  },
  {
   "cell_type": "markdown",
   "id": "ec4ffe57",
   "metadata": {},
   "source": [
    "### Misc Installations"
   ]
  },
  {
   "cell_type": "code",
   "execution_count": null,
   "id": "f158b93e",
   "metadata": {},
   "outputs": [],
   "source": [
    "%pip install datasets"
   ]
  },
  {
   "cell_type": "code",
   "execution_count": null,
   "id": "6f6faa3a",
   "metadata": {},
   "outputs": [],
   "source": [
    "%pip install transformers"
   ]
  },
  {
   "cell_type": "code",
   "execution_count": null,
   "id": "2dacf28f",
   "metadata": {},
   "outputs": [],
   "source": [
    "%pip install scikit-learn"
   ]
  },
  {
   "cell_type": "code",
   "execution_count": null,
   "id": "cb6d88cd",
   "metadata": {},
   "outputs": [],
   "source": [
    "%pip install matplotlib"
   ]
  },
  {
   "cell_type": "markdown",
   "id": "60147159",
   "metadata": {},
   "source": [
    "## Dataloader & Pretrained Model Import"
   ]
  },
  {
   "cell_type": "code",
   "execution_count": null,
   "id": "01f0dd83",
   "metadata": {},
   "outputs": [],
   "source": [
    "import os\n",
    "import torch\n",
    "from datasets_custom import get_dataloader\n",
    "\n",
    "# =============================================================================\n",
    "# Adjust these paths according to your folder structure.\n",
    "# =============================================================================\n",
    "if __name__ == '__main__':\n",
    "    # For the train_test_easy split\n",
    "    base_dir = \"/Users/<USERNAME>/Downloads/ResNet-50\" # REPLACE THIS WITH YOUR PROJECT FOLDER\n",
    "    \n",
    "    # Subfolder to the test train split CSV files:\n",
    "    csv_train = os.path.join(base_dir, \"TestTrainSplits\", \"train.csv\")\n",
    "    csv_test  = os.path.join(base_dir, \"TestTrainSplits\", \"test.csv\")\n",
    "    \n",
    "    # Directory containing JPEG images.\n",
    "    images_dir = os.path.join(base_dir, \"JPEGImage\")\n",
    "    \n",
    "    # DataLoaders for training and testing.\n",
    "    train_loader = get_dataloader(csv_train, images_dir, batch_size=32, train=True)\n",
    "    test_loader  = get_dataloader(csv_test, images_dir, batch_size=32, train=False)\n",
    "    \n",
    "    # Simple test: iterate through one batch.\n",
    "    for imgs, targets in test_loader:\n",
    "        print(\"Train Images shape:\", imgs.shape)  # Expected: [batch, 3, 416, 416]\n",
    "        print(\"Train Targets:\", targets)\n",
    "        break"
   ]
  },
  {
   "cell_type": "code",
   "execution_count": null,
   "id": "7b635a17",
   "metadata": {},
   "outputs": [],
   "source": [
    "from transformers import AutoImageProcessor, ResNetForImageClassification\n",
    "import torch\n",
    "from datasets import load_dataset\n",
    "\n",
    "dataset = load_dataset(\"huggingface/cats-image\", trust_remote_code=True)\n",
    "test_image_single = dataset[\"test\"][\"image\"][0]\n",
    "\n",
    "processor = AutoImageProcessor.from_pretrained(\"microsoft/resnet-50\")\n",
    "model = ResNetForImageClassification.from_pretrained(\"microsoft/resnet-50\")"
   ]
  },
  {
   "cell_type": "code",
   "execution_count": null,
   "id": "4eeab147",
   "metadata": {},
   "outputs": [],
   "source": [
    "# Modifying pretrained model and making a test prediction\n",
    "\n",
    "print(model.classifier) #Structure of the classifier\n",
    "\n",
    "# Modify structure of the classifier\n",
    "model.classifier = torch.nn.Sequential(\n",
    "    torch.nn.Flatten(start_dim=1),\n",
    "    torch.nn.Linear(model.classifier[1].in_features, 2)  #binary classification, to 2 outputs\n",
    ")\n",
    "\n",
    "# Freeze the backbone layers so we don't change those pretrained weights\n",
    "for param in model.resnet.parameters():\n",
    "    param.requires_grad = False\n",
    "\n",
    "\n",
    "image = next(iter(test_loader))\n",
    "inputs = processor(image[0], return_tensors=\"pt\")\n",
    "\n",
    "with torch.no_grad():\n",
    "    logits = model(**inputs).logits\n",
    "\n",
    "predicted_label = logits.argmax(-1).tolist()\n",
    "\n",
    "print(predicted_label)\n",
    "\n",
    "for pred in predicted_label:\n",
    "    print(pred)\n"
   ]
  },
  {
   "cell_type": "markdown",
   "id": "29df4e0a",
   "metadata": {},
   "source": [
    "## Training"
   ]
  },
  {
   "cell_type": "markdown",
   "id": "5a2d9a3b",
   "metadata": {},
   "source": [
    "Load model milestone if you are in the middle of model training:"
   ]
  },
  {
   "cell_type": "code",
   "execution_count": null,
   "id": "03b730e7",
   "metadata": {},
   "outputs": [
    {
     "name": "stdout",
     "output_type": "stream",
     "text": [
      "Loaded checkpoint for inference.\n"
     ]
    },
    {
     "name": "stderr",
     "output_type": "stream",
     "text": [
      "/var/folders/k6/9w05dtxs7h79yh1jkg95fx700000gn/T/ipykernel_93525/3261524861.py:9: FutureWarning: You are using `torch.load` with `weights_only=False` (the current default value), which uses the default pickle module implicitly. It is possible to construct malicious pickle data which will execute arbitrary code during unpickling (See https://github.com/pytorch/pytorch/blob/main/SECURITY.md#untrusted-models for more details). In a future release, the default value for `weights_only` will be flipped to `True`. This limits the functions that could be executed during unpickling. Arbitrary objects will no longer be allowed to be loaded via this mode unless they are explicitly allowlisted by the user via `torch.serialization.add_safe_globals`. We recommend you start setting `weights_only=True` for any use case where you don't have full control of the loaded file. Please open an issue on GitHub for any issues related to this experimental feature.\n",
      "  model.load_state_dict(torch.load(checkpoint_path, map_location=device))\n"
     ]
    }
   ],
   "source": [
    "device = torch.device('cuda' if torch.cuda.is_available() else 'cpu')\n",
    "\n",
    "checkpoint_path = 'trained_models/model_state_final_2.pth'\n",
    "\n",
    "if os.path.exists(checkpoint_path):\n",
    "    # Loading the save\n",
    "    model.load_state_dict(torch.load(checkpoint_path, map_location=device))\n",
    "    print(\"Loaded checkpoint for inference.\")\n",
    "else:\n",
    "    print(\"Model not found. Failed to load\")"
   ]
  },
  {
   "cell_type": "markdown",
   "id": "dc4eb3d1",
   "metadata": {},
   "source": [
    "Main Training Loop:"
   ]
  },
  {
   "cell_type": "code",
   "execution_count": null,
   "id": "9f369768",
   "metadata": {},
   "outputs": [],
   "source": [
    "# MAIN TRAINING LOOP\n",
    "\n",
    "# Set up directory for saving models if it doesn't exist\n",
    "save_dir = 'trained_models'\n",
    "os.makedirs(save_dir, exist_ok=True)\n",
    "\n",
    "# Push to GPU if available\n",
    "device = torch.device(\"cuda\" if torch.cuda.is_available() else \"cpu\")\n",
    "model.to(device)\n",
    "print(\"Using\", device)\n",
    "\n",
    "# Hyperparameters\n",
    "loss_fn = torch.nn.CrossEntropyLoss()\n",
    "optimizer = torch.optim.Adam(model.parameters(), lr=0.0001)\n",
    "num_epochs = 5\n",
    "\n",
    "for epoch in range(num_epochs):\n",
    "    model.train()\n",
    "    total_loss = 0\n",
    "\n",
    "    for batch in train_loader:\n",
    "\n",
    "        inputs, labels = batch\n",
    "\n",
    "        optimizer.zero_grad()\n",
    "\n",
    "        outputs = model(pixel_values=inputs)\n",
    "        logits = outputs.logits\n",
    "\n",
    "        loss = loss_fn(logits, labels)\n",
    "        loss.backward()\n",
    "        optimizer.step()\n",
    "\n",
    "        total_loss += loss.item()\n",
    "        #print(\"batch done\") #Debug Print\n",
    "\n",
    "    avg_loss = total_loss / len(train_loader)\n",
    "    print(f\"Epoch {epoch+1}/{num_epochs} | Loss: {avg_loss}\")\n",
    "\n",
    "    # Save model progress each epoch, in case of power loss etc\n",
    "    model_path = os.path.join(save_dir, 'model_state_current.pth') # Save location for failsafe / backup milestones\n",
    "    torch.save(model.state_dict(), model_path)\n",
    "    print(f\"Model state saved to {model_path}\")\n",
    "\n",
    "# Define the path to the file where you want to save the final model state after training\n",
    "model_path = os.path.join(save_dir, 'model_state_final_3.pth')\n",
    "torch.save(model.state_dict(), model_path)\n",
    "print(f\"Model state saved to {model_path}\")"
   ]
  },
  {
   "cell_type": "code",
   "execution_count": null,
   "id": "35c8f172",
   "metadata": {},
   "outputs": [],
   "source": [
    "# Manual code for saving the model\n",
    "\n",
    "#save_dir = 'trained_models'\n",
    "#os.makedirs(save_dir, exist_ok=True)\n",
    "#model_path = os.path.join(save_dir, 'custom_save.pth')\n",
    "#torch.save(model.state_dict(), model_path)\n",
    "#print(f\"Model state saved to {model_path}\")"
   ]
  },
  {
   "cell_type": "markdown",
   "id": "c680ad78",
   "metadata": {},
   "source": [
    "Unfreeze Backbone Weights: To re-create the model in the results, this should only by run in the last step"
   ]
  },
  {
   "cell_type": "code",
   "execution_count": null,
   "id": "42f8cdbc",
   "metadata": {},
   "outputs": [],
   "source": [
    "for param in model.resnet.parameters():\n",
    "    param.requires_grad = True"
   ]
  },
  {
   "cell_type": "markdown",
   "id": "afb06849",
   "metadata": {},
   "source": [
    "## Testing & Visualizations"
   ]
  },
  {
   "cell_type": "code",
   "execution_count": null,
   "id": "db2e25ae",
   "metadata": {},
   "outputs": [],
   "source": [
    "import os\n",
    "import cv2\n",
    "import numpy as np\n",
    "import torch\n",
    "from torch.utils.data import DataLoader\n",
    "\n",
    "# Rebuild the test loader\n",
    "test_loader = DataLoader(\n",
    "    test_loader.dataset,\n",
    "    batch_size=32,\n",
    "    shuffle=False,\n",
    "    num_workers=4\n",
    ")\n",
    "\n",
    "# ---------------------------\n",
    "# Evaluation Metrics\n",
    "# ---------------------------\n",
    "def inference(model, test_loader):\n",
    "    correct = 0\n",
    "    total = 0\n",
    "    model.eval()\n",
    "    TP = 0\n",
    "    FP = 0\n",
    "    TN = 0\n",
    "    FN = 0\n",
    "\n",
    "    with torch.no_grad():\n",
    "        for batch in test_loader:\n",
    "            inputs, labels = batch\n",
    "\n",
    "            logits = model(pixel_values=inputs).logits\n",
    "            preds = logits.argmax(-1)\n",
    "        \n",
    "            correct += (preds == labels).sum().item()\n",
    "            total += labels.size(0)\n",
    "\n",
    "            for i, pred in enumerate(preds):\n",
    "                if pred == labels[i]:\n",
    "                    if pred == 1:\n",
    "                        TP += 1\n",
    "                    else:\n",
    "                        TN += 1\n",
    "                else:\n",
    "                    if pred == 1:\n",
    "                        FP += 1\n",
    "                    else:\n",
    "                        FN += 1\n",
    "                \n",
    "            print(\"batch finished\") #debug\n",
    "\n",
    "\n",
    "    accuracy = correct / total\n",
    "    print(f\"Testing Accuracy: {accuracy}\")\n",
    "    print(\"TP:\", TP)\n",
    "    print(\"FP:\", FP)\n",
    "    print(\"TN:\", TN)\n",
    "    print(\"FN:\", FN)\n",
    "    print(\"Total:\", total)\n",
    "    print(\"Correct\", correct)\n",
    "\n",
    "# ---------------------------\n",
    "# Main Inference Execution\n",
    "# ---------------------------\n",
    "if __name__ == '__main__':\n",
    "    device = torch.device('cuda' if torch.cuda.is_available() else 'cpu')\n",
    "    \n",
    "    # Assume model and test_loader are defined elsewhere.\n",
    "    \n",
    "    checkpoint_path = 'trained_models/model_state_final_3.pth'\n",
    "    if os.path.exists(checkpoint_path):\n",
    "        # Loading the saved checkpoint.\n",
    "        model.load_state_dict(torch.load(checkpoint_path, map_location=device))\n",
    "        print(\"Loaded checkpoint for inference.\")\n",
    "    else:\n",
    "        print(\"Checkpoint not found. Using current model weights.\")\n",
    "    \n",
    "    # Run inference and evaluation.\n",
    "    inference(model, test_loader)"
   ]
  },
  {
   "cell_type": "markdown",
   "id": "b199963c",
   "metadata": {},
   "source": [
    "With 1 Epoch of training with lr=0.0001, the model has 56% accuracy.\n",
    "After training another 8 Epochs with lr=0.0001, accuracy went up to 64.8% \n",
    "After training another 10 epochs with lr=0.0005, accuracy is 71%\n",
    "\n",
    "TP = 927\n",
    "TN = 1583\n",
    "FP = 183\n",
    "FN = 839\n",
    "\n",
    "Correct: 2510\n",
    "Total: 3532\n",
    "\n",
    "After training another 10 epochs with lr=0.0005, accuracy is 73%\n",
    "After training another 5 epochs with lr=0.0001, AFTER UNFREEZING BACKBONE WEIGHTS, accuracy is 82.9%, 0.80 F1\n",
    "\n",
    "TP = 1197\n",
    "FP = 35\n",
    "TN = 1731\n",
    "FN = 569"
   ]
  },
  {
   "cell_type": "markdown",
   "id": "d2e064a5",
   "metadata": {},
   "source": [
    "### Visualizations"
   ]
  },
  {
   "cell_type": "code",
   "execution_count": null,
   "id": "9bcf2419",
   "metadata": {},
   "outputs": [
    {
     "data": {
      "image/png": "[encoded data removed]",
      "text/plain": [
       "<Figure size 640x480 with 2 Axes>"
      ]
     },
     "metadata": {},
     "output_type": "display_data"
    },
    {
     "name": "stdout",
     "output_type": "stream",
     "text": [
      "Precision: 0.9715909090909091\n",
      "Recall: 0.6778029445073612\n",
      "F1: 0.7985323549032688\n"
     ]
    }
   ],
   "source": [
    "### Visualizations\n",
    "\n",
    "import matplotlib.pyplot as plt\n",
    "from sklearn import metrics\n",
    "import numpy as np\n",
    "\n",
    "# Manually define confusion matrix\n",
    "TP = 1197\n",
    "FP = 35\n",
    "TN = 1731\n",
    "FN = 569\n",
    "\n",
    "confusion_matrix = np.array([[TN, FP], [FN, TP]])\n",
    "\n",
    "matrix = metrics.ConfusionMatrixDisplay(confusion_matrix = confusion_matrix, display_labels = [\"Negative\", \"Positive\"])\n",
    "\n",
    "matrix.plot()\n",
    "plt.show()\n",
    "\n",
    "print(\"Precision:\", TP/(TP+FP))\n",
    "print(\"Recall:\", TP/(TP+FN))\n",
    "print(\"F1:\", (2*TP)/((2*TP)+FP+FN))"
   ]
  }
 ],
 "metadata": {
  "kernelspec": {
   "display_name": "mlFINAL",
   "language": "python",
   "name": "python3"
  },
  "language_info": {
   "codemirror_mode": {
    "name": "ipython",
    "version": 3
   },
   "file_extension": ".py",
   "mimetype": "text/x-python",
   "name": "python",
   "nbconvert_exporter": "python",
   "pygments_lexer": "ipython3",
   "version": "3.10.16"
  }
 },
 "nbformat": 4,
 "nbformat_minor": 5
}
