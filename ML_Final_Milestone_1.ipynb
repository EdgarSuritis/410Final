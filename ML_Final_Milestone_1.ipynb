{
  "cells": [
    {
      "cell_type": "markdown",
      "metadata": {
        "id": "y19GOWkeWhZX"
      },
      "source": [
        "# Install Environment"
      ]
    },
    {
      "cell_type": "code",
      "execution_count": 1,
      "metadata": {
        "colab": {
          "base_uri": "https://localhost:8080/"
        },
        "collapsed": true,
        "id": "-ID7X_XYRHsW",
        "outputId": "37dd4169-980b-490e-87ab-6521c757607d"
      },
      "outputs": [
        {
          "name": "stdout",
          "output_type": "stream",
          "text": [
            "Requirement already satisfied: timm in /Users/edgarsuritis/miniforge3/envs/ml/lib/python3.11/site-packages (1.0.15)\n",
            "Requirement already satisfied: torch in /Users/edgarsuritis/miniforge3/envs/ml/lib/python3.11/site-packages (from timm) (2.5.1.post7)\n",
            "Requirement already satisfied: torchvision in /Users/edgarsuritis/miniforge3/envs/ml/lib/python3.11/site-packages (from timm) (0.20.1)\n",
            "Requirement already satisfied: pyyaml in /Users/edgarsuritis/miniforge3/envs/ml/lib/python3.11/site-packages (from timm) (6.0.2)\n",
            "Requirement already satisfied: huggingface_hub in /Users/edgarsuritis/miniforge3/envs/ml/lib/python3.11/site-packages (from timm) (0.30.1)\n",
            "Requirement already satisfied: safetensors in /Users/edgarsuritis/miniforge3/envs/ml/lib/python3.11/site-packages (from timm) (0.5.3)\n",
            "Requirement already satisfied: filelock in /Users/edgarsuritis/miniforge3/envs/ml/lib/python3.11/site-packages (from huggingface_hub->timm) (3.17.0)\n",
            "Requirement already satisfied: fsspec>=2023.5.0 in /Users/edgarsuritis/miniforge3/envs/ml/lib/python3.11/site-packages (from huggingface_hub->timm) (2025.2.0)\n",
            "Requirement already satisfied: packaging>=20.9 in /Users/edgarsuritis/miniforge3/envs/ml/lib/python3.11/site-packages (from huggingface_hub->timm) (24.2)\n",
            "Requirement already satisfied: requests in /Users/edgarsuritis/miniforge3/envs/ml/lib/python3.11/site-packages (from huggingface_hub->timm) (2.31.0)\n",
            "Requirement already satisfied: tqdm>=4.42.1 in /Users/edgarsuritis/miniforge3/envs/ml/lib/python3.11/site-packages (from huggingface_hub->timm) (4.66.6)\n",
            "Requirement already satisfied: typing-extensions>=3.7.4.3 in /Users/edgarsuritis/miniforge3/envs/ml/lib/python3.11/site-packages (from huggingface_hub->timm) (4.12.2)\n",
            "Requirement already satisfied: sympy!=1.13.2,>=1.13.1 in /Users/edgarsuritis/miniforge3/envs/ml/lib/python3.11/site-packages (from torch->timm) (1.13.3)\n",
            "Requirement already satisfied: networkx in /Users/edgarsuritis/miniforge3/envs/ml/lib/python3.11/site-packages (from torch->timm) (3.4.2)\n",
            "Requirement already satisfied: jinja2 in /Users/edgarsuritis/miniforge3/envs/ml/lib/python3.11/site-packages (from torch->timm) (3.1.5)\n",
            "Requirement already satisfied: numpy in /Users/edgarsuritis/miniforge3/envs/ml/lib/python3.11/site-packages (from torchvision->timm) (1.26.4)\n",
            "Requirement already satisfied: pillow!=8.3.*,>=5.3.0 in /Users/edgarsuritis/miniforge3/envs/ml/lib/python3.11/site-packages (from torchvision->timm) (10.1.0)\n",
            "Requirement already satisfied: mpmath<1.4,>=1.1.0 in /Users/edgarsuritis/miniforge3/envs/ml/lib/python3.11/site-packages (from sympy!=1.13.2,>=1.13.1->torch->timm) (1.3.0)\n",
            "Requirement already satisfied: MarkupSafe>=2.0 in /Users/edgarsuritis/miniforge3/envs/ml/lib/python3.11/site-packages (from jinja2->torch->timm) (3.0.2)\n",
            "Requirement already satisfied: charset-normalizer<4,>=2 in /Users/edgarsuritis/miniforge3/envs/ml/lib/python3.11/site-packages (from requests->huggingface_hub->timm) (3.4.1)\n",
            "Requirement already satisfied: idna<4,>=2.5 in /Users/edgarsuritis/miniforge3/envs/ml/lib/python3.11/site-packages (from requests->huggingface_hub->timm) (3.10)\n",
            "Requirement already satisfied: urllib3<3,>=1.21.1 in /Users/edgarsuritis/miniforge3/envs/ml/lib/python3.11/site-packages (from requests->huggingface_hub->timm) (2.3.0)\n",
            "Requirement already satisfied: certifi>=2017.4.17 in /Users/edgarsuritis/miniforge3/envs/ml/lib/python3.11/site-packages (from requests->huggingface_hub->timm) (2025.1.31)\n"
          ]
        }
      ],
      "source": [
        "!pip install timm"
      ]
    },
    {
      "cell_type": "code",
      "execution_count": 2,
      "metadata": {
        "colab": {
          "base_uri": "https://localhost:8080/"
        },
        "collapsed": true,
        "id": "2miLSHhNT5YV",
        "outputId": "e8e35967-ab5d-485f-be1b-434a02625d02"
      },
      "outputs": [
        {
          "name": "stdout",
          "output_type": "stream",
          "text": [
            "Requirement already satisfied: torch in /Users/edgarsuritis/miniforge3/envs/ml/lib/python3.11/site-packages (2.5.1.post7)\n",
            "Requirement already satisfied: torchvision in /Users/edgarsuritis/miniforge3/envs/ml/lib/python3.11/site-packages (0.20.1)\n",
            "Requirement already satisfied: torchaudio in /Users/edgarsuritis/miniforge3/envs/ml/lib/python3.11/site-packages (2.5.1a0)\n",
            "Requirement already satisfied: timm in /Users/edgarsuritis/miniforge3/envs/ml/lib/python3.11/site-packages (1.0.15)\n",
            "Requirement already satisfied: opencv-python in /Users/edgarsuritis/miniforge3/envs/ml/lib/python3.11/site-packages (4.11.0.86)\n",
            "Requirement already satisfied: albumentations in /Users/edgarsuritis/miniforge3/envs/ml/lib/python3.11/site-packages (2.0.5)\n",
            "Requirement already satisfied: numpy in /Users/edgarsuritis/miniforge3/envs/ml/lib/python3.11/site-packages (1.26.4)\n",
            "Requirement already satisfied: matplotlib in /Users/edgarsuritis/miniforge3/envs/ml/lib/python3.11/site-packages (3.8.4)\n",
            "Requirement already satisfied: seaborn in /Users/edgarsuritis/miniforge3/envs/ml/lib/python3.11/site-packages (0.13.2)\n",
            "Requirement already satisfied: wandb in /Users/edgarsuritis/miniforge3/envs/ml/lib/python3.11/site-packages (0.19.9)\n",
            "Requirement already satisfied: filelock in /Users/edgarsuritis/miniforge3/envs/ml/lib/python3.11/site-packages (from torch) (3.17.0)\n",
            "Requirement already satisfied: typing-extensions>=4.8.0 in /Users/edgarsuritis/miniforge3/envs/ml/lib/python3.11/site-packages (from torch) (4.12.2)\n",
            "Requirement already satisfied: sympy!=1.13.2,>=1.13.1 in /Users/edgarsuritis/miniforge3/envs/ml/lib/python3.11/site-packages (from torch) (1.13.3)\n",
            "Requirement already satisfied: networkx in /Users/edgarsuritis/miniforge3/envs/ml/lib/python3.11/site-packages (from torch) (3.4.2)\n",
            "Requirement already satisfied: jinja2 in /Users/edgarsuritis/miniforge3/envs/ml/lib/python3.11/site-packages (from torch) (3.1.5)\n",
            "Requirement already satisfied: fsspec in /Users/edgarsuritis/miniforge3/envs/ml/lib/python3.11/site-packages (from torch) (2025.2.0)\n",
            "Requirement already satisfied: pillow!=8.3.*,>=5.3.0 in /Users/edgarsuritis/miniforge3/envs/ml/lib/python3.11/site-packages (from torchvision) (10.1.0)\n",
            "Requirement already satisfied: pyyaml in /Users/edgarsuritis/miniforge3/envs/ml/lib/python3.11/site-packages (from timm) (6.0.2)\n",
            "Requirement already satisfied: huggingface_hub in /Users/edgarsuritis/miniforge3/envs/ml/lib/python3.11/site-packages (from timm) (0.30.1)\n",
            "Requirement already satisfied: safetensors in /Users/edgarsuritis/miniforge3/envs/ml/lib/python3.11/site-packages (from timm) (0.5.3)\n",
            "Requirement already satisfied: scipy>=1.10.0 in /Users/edgarsuritis/miniforge3/envs/ml/lib/python3.11/site-packages (from albumentations) (1.11.4)\n",
            "Requirement already satisfied: pydantic>=2.9.2 in /Users/edgarsuritis/miniforge3/envs/ml/lib/python3.11/site-packages (from albumentations) (2.11.2)\n",
            "Requirement already satisfied: albucore==0.0.23 in /Users/edgarsuritis/miniforge3/envs/ml/lib/python3.11/site-packages (from albumentations) (0.0.23)\n",
            "Requirement already satisfied: opencv-python-headless>=4.9.0.80 in /Users/edgarsuritis/miniforge3/envs/ml/lib/python3.11/site-packages (from albumentations) (4.11.0.86)\n",
            "Requirement already satisfied: stringzilla>=3.10.4 in /Users/edgarsuritis/miniforge3/envs/ml/lib/python3.11/site-packages (from albucore==0.0.23->albumentations) (3.12.3)\n",
            "Requirement already satisfied: simsimd>=5.9.2 in /Users/edgarsuritis/miniforge3/envs/ml/lib/python3.11/site-packages (from albucore==0.0.23->albumentations) (6.2.1)\n",
            "Requirement already satisfied: contourpy>=1.0.1 in /Users/edgarsuritis/miniforge3/envs/ml/lib/python3.11/site-packages (from matplotlib) (1.3.1)\n",
            "Requirement already satisfied: cycler>=0.10 in /Users/edgarsuritis/miniforge3/envs/ml/lib/python3.11/site-packages (from matplotlib) (0.12.1)\n",
            "Requirement already satisfied: fonttools>=4.22.0 in /Users/edgarsuritis/miniforge3/envs/ml/lib/python3.11/site-packages (from matplotlib) (4.56.0)\n",
            "Requirement already satisfied: kiwisolver>=1.3.1 in /Users/edgarsuritis/miniforge3/envs/ml/lib/python3.11/site-packages (from matplotlib) (1.4.7)\n",
            "Requirement already satisfied: packaging>=20.0 in /Users/edgarsuritis/miniforge3/envs/ml/lib/python3.11/site-packages (from matplotlib) (24.2)\n",
            "Requirement already satisfied: pyparsing>=2.3.1 in /Users/edgarsuritis/miniforge3/envs/ml/lib/python3.11/site-packages (from matplotlib) (3.2.1)\n",
            "Requirement already satisfied: python-dateutil>=2.7 in /Users/edgarsuritis/miniforge3/envs/ml/lib/python3.11/site-packages (from matplotlib) (2.9.0.post0)\n",
            "Requirement already satisfied: pandas>=1.2 in /Users/edgarsuritis/miniforge3/envs/ml/lib/python3.11/site-packages (from seaborn) (2.1.4)\n",
            "Requirement already satisfied: click!=8.0.0,>=7.1 in /Users/edgarsuritis/miniforge3/envs/ml/lib/python3.11/site-packages (from wandb) (8.1.8)\n",
            "Requirement already satisfied: docker-pycreds>=0.4.0 in /Users/edgarsuritis/miniforge3/envs/ml/lib/python3.11/site-packages (from wandb) (0.4.0)\n",
            "Requirement already satisfied: gitpython!=3.1.29,>=1.0.0 in /Users/edgarsuritis/miniforge3/envs/ml/lib/python3.11/site-packages (from wandb) (3.1.44)\n",
            "Requirement already satisfied: platformdirs in /Users/edgarsuritis/miniforge3/envs/ml/lib/python3.11/site-packages (from wandb) (4.3.6)\n",
            "Requirement already satisfied: protobuf!=4.21.0,!=5.28.0,<6,>=3.19.0 in /Users/edgarsuritis/miniforge3/envs/ml/lib/python3.11/site-packages (from wandb) (4.25.6)\n",
            "Requirement already satisfied: psutil>=5.0.0 in /Users/edgarsuritis/miniforge3/envs/ml/lib/python3.11/site-packages (from wandb) (7.0.0)\n",
            "Requirement already satisfied: requests<3,>=2.0.0 in /Users/edgarsuritis/miniforge3/envs/ml/lib/python3.11/site-packages (from wandb) (2.31.0)\n",
            "Requirement already satisfied: sentry-sdk>=2.0.0 in /Users/edgarsuritis/miniforge3/envs/ml/lib/python3.11/site-packages (from wandb) (2.25.1)\n",
            "Requirement already satisfied: setproctitle in /Users/edgarsuritis/miniforge3/envs/ml/lib/python3.11/site-packages (from wandb) (1.3.5)\n",
            "Requirement already satisfied: setuptools in /Users/edgarsuritis/miniforge3/envs/ml/lib/python3.11/site-packages (from wandb) (75.8.0)\n",
            "Requirement already satisfied: six>=1.4.0 in /Users/edgarsuritis/miniforge3/envs/ml/lib/python3.11/site-packages (from docker-pycreds>=0.4.0->wandb) (1.17.0)\n",
            "Requirement already satisfied: gitdb<5,>=4.0.1 in /Users/edgarsuritis/miniforge3/envs/ml/lib/python3.11/site-packages (from gitpython!=3.1.29,>=1.0.0->wandb) (4.0.12)\n",
            "Requirement already satisfied: pytz>=2020.1 in /Users/edgarsuritis/miniforge3/envs/ml/lib/python3.11/site-packages (from pandas>=1.2->seaborn) (2024.2)\n",
            "Requirement already satisfied: tzdata>=2022.1 in /Users/edgarsuritis/miniforge3/envs/ml/lib/python3.11/site-packages (from pandas>=1.2->seaborn) (2025.1)\n",
            "Requirement already satisfied: annotated-types>=0.6.0 in /Users/edgarsuritis/miniforge3/envs/ml/lib/python3.11/site-packages (from pydantic>=2.9.2->albumentations) (0.7.0)\n",
            "Requirement already satisfied: pydantic-core==2.33.1 in /Users/edgarsuritis/miniforge3/envs/ml/lib/python3.11/site-packages (from pydantic>=2.9.2->albumentations) (2.33.1)\n",
            "Requirement already satisfied: typing-inspection>=0.4.0 in /Users/edgarsuritis/miniforge3/envs/ml/lib/python3.11/site-packages (from pydantic>=2.9.2->albumentations) (0.4.0)\n",
            "Requirement already satisfied: charset-normalizer<4,>=2 in /Users/edgarsuritis/miniforge3/envs/ml/lib/python3.11/site-packages (from requests<3,>=2.0.0->wandb) (3.4.1)\n",
            "Requirement already satisfied: idna<4,>=2.5 in /Users/edgarsuritis/miniforge3/envs/ml/lib/python3.11/site-packages (from requests<3,>=2.0.0->wandb) (3.10)\n",
            "Requirement already satisfied: urllib3<3,>=1.21.1 in /Users/edgarsuritis/miniforge3/envs/ml/lib/python3.11/site-packages (from requests<3,>=2.0.0->wandb) (2.3.0)\n",
            "Requirement already satisfied: certifi>=2017.4.17 in /Users/edgarsuritis/miniforge3/envs/ml/lib/python3.11/site-packages (from requests<3,>=2.0.0->wandb) (2025.1.31)\n",
            "Requirement already satisfied: mpmath<1.4,>=1.1.0 in /Users/edgarsuritis/miniforge3/envs/ml/lib/python3.11/site-packages (from sympy!=1.13.2,>=1.13.1->torch) (1.3.0)\n",
            "Requirement already satisfied: tqdm>=4.42.1 in /Users/edgarsuritis/miniforge3/envs/ml/lib/python3.11/site-packages (from huggingface_hub->timm) (4.66.6)\n",
            "Requirement already satisfied: MarkupSafe>=2.0 in /Users/edgarsuritis/miniforge3/envs/ml/lib/python3.11/site-packages (from jinja2->torch) (3.0.2)\n",
            "Requirement already satisfied: smmap<6,>=3.0.1 in /Users/edgarsuritis/miniforge3/envs/ml/lib/python3.11/site-packages (from gitdb<5,>=4.0.1->gitpython!=3.1.29,>=1.0.0->wandb) (5.0.0)\n"
          ]
        }
      ],
      "source": [
        "!pip install torch torchvision torchaudio timm opencv-python albumentations numpy matplotlib seaborn wandb"
      ]
    },
    {
      "cell_type": "code",
      "execution_count": 3,
      "metadata": {
        "colab": {
          "base_uri": "https://localhost:8080/"
        },
        "collapsed": true,
        "id": "tbPPlmdmSdnh",
        "outputId": "88a36cf1-b9c2-49e3-ae59-e4506c86434b"
      },
      "outputs": [
        {
          "name": "stdout",
          "output_type": "stream",
          "text": [
            "Requirement already satisfied: torchmetrics in /Users/edgarsuritis/miniforge3/envs/ml/lib/python3.11/site-packages (1.7.0)\n",
            "Requirement already satisfied: numpy>1.20.0 in /Users/edgarsuritis/miniforge3/envs/ml/lib/python3.11/site-packages (from torchmetrics) (1.26.4)\n",
            "Requirement already satisfied: packaging>17.1 in /Users/edgarsuritis/miniforge3/envs/ml/lib/python3.11/site-packages (from torchmetrics) (24.2)\n",
            "Requirement already satisfied: torch>=2.0.0 in /Users/edgarsuritis/miniforge3/envs/ml/lib/python3.11/site-packages (from torchmetrics) (2.5.1.post7)\n",
            "Requirement already satisfied: lightning-utilities>=0.8.0 in /Users/edgarsuritis/miniforge3/envs/ml/lib/python3.11/site-packages (from torchmetrics) (0.14.3)\n",
            "Requirement already satisfied: setuptools in /Users/edgarsuritis/miniforge3/envs/ml/lib/python3.11/site-packages (from lightning-utilities>=0.8.0->torchmetrics) (75.8.0)\n",
            "Requirement already satisfied: typing_extensions in /Users/edgarsuritis/miniforge3/envs/ml/lib/python3.11/site-packages (from lightning-utilities>=0.8.0->torchmetrics) (4.12.2)\n",
            "Requirement already satisfied: filelock in /Users/edgarsuritis/miniforge3/envs/ml/lib/python3.11/site-packages (from torch>=2.0.0->torchmetrics) (3.17.0)\n",
            "Requirement already satisfied: sympy!=1.13.2,>=1.13.1 in /Users/edgarsuritis/miniforge3/envs/ml/lib/python3.11/site-packages (from torch>=2.0.0->torchmetrics) (1.13.3)\n",
            "Requirement already satisfied: networkx in /Users/edgarsuritis/miniforge3/envs/ml/lib/python3.11/site-packages (from torch>=2.0.0->torchmetrics) (3.4.2)\n",
            "Requirement already satisfied: jinja2 in /Users/edgarsuritis/miniforge3/envs/ml/lib/python3.11/site-packages (from torch>=2.0.0->torchmetrics) (3.1.5)\n",
            "Requirement already satisfied: fsspec in /Users/edgarsuritis/miniforge3/envs/ml/lib/python3.11/site-packages (from torch>=2.0.0->torchmetrics) (2025.2.0)\n",
            "Requirement already satisfied: mpmath<1.4,>=1.1.0 in /Users/edgarsuritis/miniforge3/envs/ml/lib/python3.11/site-packages (from sympy!=1.13.2,>=1.13.1->torch>=2.0.0->torchmetrics) (1.3.0)\n",
            "Requirement already satisfied: MarkupSafe>=2.0 in /Users/edgarsuritis/miniforge3/envs/ml/lib/python3.11/site-packages (from jinja2->torch>=2.0.0->torchmetrics) (3.0.2)\n"
          ]
        }
      ],
      "source": [
        "!pip install torchmetrics"
      ]
    },
    {
      "cell_type": "code",
      "execution_count": 4,
      "metadata": {
        "colab": {
          "base_uri": "https://localhost:8080/"
        },
        "collapsed": true,
        "id": "cqZKZUTyUJ5J",
        "outputId": "d6ad0090-9b0d-4e7e-8e44-323c69811bc4"
      },
      "outputs": [
        {
          "name": "stdout",
          "output_type": "stream",
          "text": [
            "Looking in indexes: https://pypi.org/simple, https://download.pytorch.org/whl/cu116\n",
            "Requirement already satisfied: torch in /Users/edgarsuritis/miniforge3/envs/ml/lib/python3.11/site-packages (2.5.1.post7)\n",
            "Requirement already satisfied: filelock in /Users/edgarsuritis/miniforge3/envs/ml/lib/python3.11/site-packages (from torch) (3.17.0)\n",
            "Requirement already satisfied: typing-extensions>=4.8.0 in /Users/edgarsuritis/miniforge3/envs/ml/lib/python3.11/site-packages (from torch) (4.12.2)\n",
            "Requirement already satisfied: sympy!=1.13.2,>=1.13.1 in /Users/edgarsuritis/miniforge3/envs/ml/lib/python3.11/site-packages (from torch) (1.13.3)\n",
            "Requirement already satisfied: networkx in /Users/edgarsuritis/miniforge3/envs/ml/lib/python3.11/site-packages (from torch) (3.4.2)\n",
            "Requirement already satisfied: jinja2 in /Users/edgarsuritis/miniforge3/envs/ml/lib/python3.11/site-packages (from torch) (3.1.5)\n",
            "Requirement already satisfied: fsspec in /Users/edgarsuritis/miniforge3/envs/ml/lib/python3.11/site-packages (from torch) (2025.2.0)\n",
            "Requirement already satisfied: mpmath<1.4,>=1.1.0 in /Users/edgarsuritis/miniforge3/envs/ml/lib/python3.11/site-packages (from sympy!=1.13.2,>=1.13.1->torch) (1.3.0)\n",
            "Requirement already satisfied: MarkupSafe>=2.0 in /Users/edgarsuritis/miniforge3/envs/ml/lib/python3.11/site-packages (from jinja2->torch) (3.0.2)\n"
          ]
        }
      ],
      "source": [
        "!pip install torch --extra-index-url https://download.pytorch.org/whl/cu116"
      ]
    },
    {
      "cell_type": "code",
      "execution_count": 5,
      "metadata": {
        "colab": {
          "base_uri": "https://localhost:8080/"
        },
        "collapsed": true,
        "id": "JY2tsXfWUjU1",
        "outputId": "ed38ae37-de47-4f91-f658-da61726130ee"
      },
      "outputs": [
        {
          "name": "stdout",
          "output_type": "stream",
          "text": [
            "Requirement already satisfied: torchmetrics in /Users/edgarsuritis/miniforge3/envs/ml/lib/python3.11/site-packages (1.7.0)\n",
            "Requirement already satisfied: numpy>1.20.0 in /Users/edgarsuritis/miniforge3/envs/ml/lib/python3.11/site-packages (from torchmetrics) (1.26.4)\n",
            "Requirement already satisfied: packaging>17.1 in /Users/edgarsuritis/miniforge3/envs/ml/lib/python3.11/site-packages (from torchmetrics) (24.2)\n",
            "Requirement already satisfied: torch>=2.0.0 in /Users/edgarsuritis/miniforge3/envs/ml/lib/python3.11/site-packages (from torchmetrics) (2.5.1.post7)\n",
            "Requirement already satisfied: lightning-utilities>=0.8.0 in /Users/edgarsuritis/miniforge3/envs/ml/lib/python3.11/site-packages (from torchmetrics) (0.14.3)\n",
            "Requirement already satisfied: setuptools in /Users/edgarsuritis/miniforge3/envs/ml/lib/python3.11/site-packages (from lightning-utilities>=0.8.0->torchmetrics) (75.8.0)\n",
            "Requirement already satisfied: typing_extensions in /Users/edgarsuritis/miniforge3/envs/ml/lib/python3.11/site-packages (from lightning-utilities>=0.8.0->torchmetrics) (4.12.2)\n",
            "Requirement already satisfied: filelock in /Users/edgarsuritis/miniforge3/envs/ml/lib/python3.11/site-packages (from torch>=2.0.0->torchmetrics) (3.17.0)\n",
            "Requirement already satisfied: sympy!=1.13.2,>=1.13.1 in /Users/edgarsuritis/miniforge3/envs/ml/lib/python3.11/site-packages (from torch>=2.0.0->torchmetrics) (1.13.3)\n",
            "Requirement already satisfied: networkx in /Users/edgarsuritis/miniforge3/envs/ml/lib/python3.11/site-packages (from torch>=2.0.0->torchmetrics) (3.4.2)\n",
            "Requirement already satisfied: jinja2 in /Users/edgarsuritis/miniforge3/envs/ml/lib/python3.11/site-packages (from torch>=2.0.0->torchmetrics) (3.1.5)\n",
            "Requirement already satisfied: fsspec in /Users/edgarsuritis/miniforge3/envs/ml/lib/python3.11/site-packages (from torch>=2.0.0->torchmetrics) (2025.2.0)\n",
            "Requirement already satisfied: mpmath<1.4,>=1.1.0 in /Users/edgarsuritis/miniforge3/envs/ml/lib/python3.11/site-packages (from sympy!=1.13.2,>=1.13.1->torch>=2.0.0->torchmetrics) (1.3.0)\n",
            "Requirement already satisfied: MarkupSafe>=2.0 in /Users/edgarsuritis/miniforge3/envs/ml/lib/python3.11/site-packages (from jinja2->torch>=2.0.0->torchmetrics) (3.0.2)\n"
          ]
        }
      ],
      "source": [
        "!pip install torchmetrics"
      ]
    },
    {
      "cell_type": "markdown",
      "metadata": {
        "id": "BgwWf0w0WzRw"
      },
      "source": [
        "# Imports"
      ]
    },
    {
      "cell_type": "code",
      "execution_count": 6,
      "metadata": {
        "id": "QdapzPNWJblv"
      },
      "outputs": [],
      "source": [
        "import torch\n",
        "import torch.nn as nn\n",
        "import torch.optim as optim\n",
        "from torch.utils.data import Dataset, DataLoader\n",
        "import pandas as pd\n",
        "import os\n",
        "import PIL\n",
        "import torchvision"
      ]
    },
    {
      "cell_type": "code",
      "execution_count": 7,
      "metadata": {
        "id": "Sb1Gi5BMRCfk"
      },
      "outputs": [],
      "source": [
        "from timm.models.swin_transformer import SwinTransformer #https://arxiv.org/pdf/2103.14030"
      ]
    },
    {
      "cell_type": "code",
      "execution_count": 8,
      "metadata": {
        "id": "Jt6Y8ExlRTwG"
      },
      "outputs": [],
      "source": [
        "import cv2\n",
        "import numpy as np"
      ]
    },
    {
      "cell_type": "code",
      "execution_count": 9,
      "metadata": {
        "id": "qwGBuEBsU_Kf"
      },
      "outputs": [],
      "source": [
        "from torchmetrics import detection #We're using detection.mean_ap"
      ]
    },
    {
      "cell_type": "code",
      "execution_count": 10,
      "metadata": {
        "id": "GDSgrw6FYSL9"
      },
      "outputs": [],
      "source": [
        "import sys\n",
        "import xml.etree.ElementTree as ET"
      ]
    },
    {
      "cell_type": "markdown",
      "metadata": {
        "id": "3qyPSMl5t-G2"
      },
      "source": [
        "# Data Import & Dataloader"
      ]
    },
    {
      "cell_type": "code",
      "execution_count": null,
      "metadata": {
        "id": "IlVUZ8AXt9GR"
      },
      "outputs": [],
      "source": [
        "# This section / code block is adapted from Lab 6\n",
        "\n",
        "#ERRORS TO RESOLVE:\n",
        "# Different numbers of bounding boxes make the array differently sized (N by 5), N changes\n",
        "# Resolved by just making each one always N=20 - but I think this is a poor efficiency solution\n",
        "\n",
        "class Sixray:\n",
        "\n",
        "    def __init__(self, fname, transform=None):\n",
        "        self.class_id = {\"Gun\":0, \"Knife\":1, \"Wrench\":2, \"Pliers\":3, \"Scissors\":4, \"Hammer\":5} # Used for converting classes in the XML files to numeric classes\n",
        "        self.fnames = pd.read_csv(fname, delimiter=',', header=0) # fnames is just used to get the file names in col 0\n",
        "        self.transform = transform\n",
        "\n",
        "    def __len__(self):\n",
        "        return len(self.fnames)\n",
        "\n",
        "    def __getitem__(self, idx):\n",
        "        \"\"\" Returns a sample of {image, bounding boxes tensor}\n",
        "        Parameters:\n",
        "            idx (int): An index\n",
        "        Returns:\n",
        "            (dict): With two keys, images which maps to the opened image (as a numpy array), and bounding_boxes which maps to an N by 5 np array containing [class_id, x_center, y_center, width, height]\n",
        "        \"\"\"\n",
        "\n",
        "        fileName = self.fnames.iat[int(idx), 0] # Pulls file name of idx from fnames frame\n",
        "\n",
        "        image_path = \"/Users/edgarsuritis/Downloads/FinalProjectData/JPEGImage/\" + fileName + \".jpg\" #Full path to image folder on my local machine\n",
        "        \n",
        "        image = PIL.Image.open(image_path)\n",
        "\n",
        "        if fileName[0] == 'P': # If the image has dangerous items in it\n",
        "            xml_path = \"/Users/edgarsuritis/Downloads/FinalProjectData/positive-Annotation/\" + fileName + \".xml\" #Full path to XML folder on my local machine\n",
        "            tree = ET.parse(xml_path)\n",
        "            root = tree.getroot()\n",
        "            num_boxes = len(root.findall('./object')) #This will overestimate the actual number of bounding boxes if there are empty xml object classes in the xml files (a few have extraneous object tags)\n",
        "\n",
        "            #bounding_boxes = np.zeros((num_boxes, 5))\n",
        "            bounding_boxes = np.zeros((20, 5))\n",
        "\n",
        "            for i, item in enumerate(root.findall('./object')): #for each bounding box\n",
        "\n",
        "                if item.find('name') is None: # Some random xml's have an extra empty object that should be ignored\n",
        "                    continue\n",
        "                \n",
        "                # get the class, convert to int representation, & store at pos 0 in bounding box arrays\n",
        "                bounding_boxes[i, 0] = self.class_id[item.find('name').text]\n",
        "\n",
        "                bndbox = item.find('bndbox')\n",
        "                \n",
        "                # get coordates of the sides of the bounding box\n",
        "                xmin = float(bndbox.find('xmin').text)\n",
        "                ymin = float(bndbox.find('ymin').text)\n",
        "                xmax = float(bndbox.find('xmax').text)\n",
        "                ymax = float(bndbox.find('ymax').text)\n",
        "                \n",
        "                # calculate desired representation of the bounding box\n",
        "                x_center = (xmax+xmin)/2\n",
        "                y_center = (ymax+ymin)/2\n",
        "                width = xmax-xmin\n",
        "                height = ymax-ymin\n",
        "\n",
        "                # We divide by 416 to normalize the coordinates to between 0 and 1\n",
        "                # Store the values at pos 1-4 in the bounding box array\n",
        "                bounding_boxes[i, 1] = x_center/416\n",
        "                bounding_boxes[i, 2] = y_center/416\n",
        "                bounding_boxes[i, 3] = width/416\n",
        "                bounding_boxes[i, 4] = height/416\n",
        "                \n",
        "        else:\n",
        "            #bounding_boxes = np.zeros((0, 5))\n",
        "            bounding_boxes = np.zeros((20, 5)) # again, just to match the size of the other arrays\n",
        "\n",
        "        \n",
        "\n",
        "        sample = {'image': image, 'bounding_boxes': bounding_boxes} # create dictionary representation\n",
        "\n",
        "        if self.transform:\n",
        "            sample = self.transform(sample)\n",
        "\n",
        "        return sample\n",
        "\n",
        "\n",
        "\n",
        "\n",
        "class Rescale:\n",
        "    \"\"\"Rescale the image in a sample to a given size.\n",
        "\n",
        "    Args:\n",
        "        output_size (tuple): Desired output size.\n",
        "    Hint: Look at Resize from Pytorch\n",
        "    \"\"\"\n",
        "\n",
        "    def __init__(self, output_size):\n",
        "        self.output_size = output_size\n",
        "        self.resize = torchvision.transforms.Resize(self.output_size)\n",
        "\n",
        "    def __call__(self, sample):\n",
        "        sample['image'] = self.resize.forward(sample['image'])\n",
        "\n",
        "        return sample\n",
        "\n",
        "\n",
        "class ToTensor(object):\n",
        "    \"\"\"Convert ndarrays in sample to Tensors.\n",
        "    Credit:  Adapted from https://pytorch.org/tutorials/beginner/data_loading_tutorial.html#dataset-class\n",
        "    \"\"\"\n",
        "\n",
        "    def __call__(self, sample):\n",
        "        image, bounding_boxes = sample['image'], sample['bounding_boxes']\n",
        "        return {'image': torchvision.transforms.functional.pil_to_tensor(image).float(),\n",
        "                'bounding_boxes': torch.from_numpy(bounding_boxes).long()}\n",
        "\n",
        "\n",
        "def get_dataloader(version='train', batch_size=32):\n",
        "    \"\"\" Return a dataloader\n",
        "    \"\"\"\n",
        "    if version == 'train':\n",
        "        \n",
        "        fname = \"/Users/edgarsuritis/Downloads/FinalProjectData/TestTrainSplits/train_test_easy/train.csv\" #Local absolute path to training split csv\n",
        "    elif version == 'test':\n",
        "        fname = \"/Users/edgarsuritis/Downloads/FinalProjectData/TestTrainSplits/train_test_easy/test.csv\" #Local absolute path to testing split csv\n",
        "    dataset = Sixray(fname,\n",
        "            transform=torchvision.transforms.Compose([Rescale((416, 416)),\n",
        "                                        ToTensor()]))\n",
        "\n",
        "    return torch.utils.data.DataLoader(dataset,\n",
        "                      batch_size=batch_size,\n",
        "                      num_workers=0,\n",
        "                      shuffle=True)"
      ]
    },
    {
      "cell_type": "code",
      "execution_count": null,
      "metadata": {
        "colab": {
          "base_uri": "https://localhost:8080/",
          "height": 382
        },
        "id": "8NazSlvYWaLR",
        "outputId": "f61d48c6-5569-463b-8a13-33585592f5eb"
      },
      "outputs": [],
      "source": [
        "dload = get_dataloader('test') #load the testing dataset dataloader\n",
        "\n",
        "for item in dload: # check that all the items can be loaded correctly, images & XML files\n",
        "    pass\n",
        "\n",
        "# WOW this takes 37 minutes on my macbook, just to load through all the data!"
      ]
    },
    {
      "cell_type": "markdown",
      "metadata": {
        "id": "VDlTbtqTXjDU"
      },
      "source": [
        "# Model"
      ]
    },
    {
      "cell_type": "code",
      "execution_count": null,
      "metadata": {
        "id": "KOHxwIpYd3gK"
      },
      "outputs": [],
      "source": []
    }
  ],
  "metadata": {
    "accelerator": "TPU",
    "colab": {
      "collapsed_sections": [
        "y19GOWkeWhZX",
        "BgwWf0w0WzRw"
      ],
      "gpuType": "V28",
      "provenance": []
    },
    "kernelspec": {
      "display_name": "ml",
      "language": "python",
      "name": "python3"
    },
    "language_info": {
      "codemirror_mode": {
        "name": "ipython",
        "version": 3
      },
      "file_extension": ".py",
      "mimetype": "text/x-python",
      "name": "python",
      "nbconvert_exporter": "python",
      "pygments_lexer": "ipython3",
      "version": "3.11.0"
    }
  },
  "nbformat": 4,
  "nbformat_minor": 0
}
